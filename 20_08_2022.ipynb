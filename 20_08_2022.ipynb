{
  "nbformat": 4,
  "nbformat_minor": 0,
  "metadata": {
    "colab": {
      "name": "20-08-2022.ipynb",
      "provenance": [],
      "authorship_tag": "ABX9TyNPuoOU7HT1KgnUoyr4u2DD",
      "include_colab_link": true
    },
    "kernelspec": {
      "name": "python3",
      "display_name": "Python 3"
    },
    "language_info": {
      "name": "python"
    }
  },
  "cells": [
    {
      "cell_type": "markdown",
      "metadata": {
        "id": "view-in-github",
        "colab_type": "text"
      },
      "source": [
        "<a href=\"https://colab.research.google.com/github/SanjeevKLH/Python-Full-Stack-Development/blob/main/20_08_2022.ipynb\" target=\"_parent\"><img src=\"https://colab.research.google.com/assets/colab-badge.svg\" alt=\"Open In Colab\"/></a>"
      ]
    },
    {
      "cell_type": "code",
      "execution_count": 12,
      "metadata": {
        "colab": {
          "base_uri": "https://localhost:8080/"
        },
        "id": "mdN0yrajoeIV",
        "outputId": "cc08d4b1-a47d-4f82-ff7a-22065731b180"
      },
      "outputs": [
        {
          "output_type": "stream",
          "name": "stdout",
          "text": [
            "Sai Sanjeev\n"
          ]
        }
      ],
      "source": [
        "class Person:\n",
        "  def __init__ (self, fname, lname):\n",
        "    self.firstname = fname\n",
        "    self.lastname = lname\n",
        "\n",
        "  def printname(self):\n",
        "    print(self.firstname, self.lastname)\n",
        "\n",
        "class Student(Person):\n",
        "  pass\n",
        "\n",
        "x = Student(\"Sai\", \"Sanjeev\")\n",
        "x.printname()"
      ]
    },
    {
      "cell_type": "code",
      "source": [
        "class Person:\n",
        "  def __init__(self, fname, lname):\n",
        "    self.firstname = fname\n",
        "    self.lastname = lname\n",
        "\n",
        "  def printname(self):\n",
        "    print(self.firstname, self.lastname)\n",
        "\n",
        "class Student(Person):\n",
        "  def __init__(self, fname, lname,year):\n",
        "    super().__init__(fname, lname)\n",
        "    self.graduationyear = year\n",
        "x = Student(\"Sai\", \"Sanjeev\",2003)\n",
        "print(x.firstname, x.lastname)\n",
        "print(x.graduationyear)\n",
        "   "
      ],
      "metadata": {
        "colab": {
          "base_uri": "https://localhost:8080/"
        },
        "id": "ZA75lj5Vqt9o",
        "outputId": "bf11c5b5-ea07-4250-805b-5e69118f070d"
      },
      "execution_count": 16,
      "outputs": [
        {
          "output_type": "stream",
          "name": "stdout",
          "text": [
            "Sai Sanjeev\n",
            "2003\n"
          ]
        }
      ]
    },
    {
      "cell_type": "code",
      "source": [
        "class Person:\n",
        "  def __init__(self, fname, lname):\n",
        "    self.firstname = fname\n",
        "    self.lastname = lname\n",
        "\n",
        "  def printname(self):\n",
        "    print(\"First Name:\",self.firstname,\"\\tLast Name:\", self.lastname)\n",
        "\n",
        "class Student(Person):\n",
        "  def __init__(self, fname, lname,graduationyear):\n",
        "    super().__init__(fname, lname)\n",
        "    self.graduationyear = graduationyear\n",
        "  def grad(self,graduationyear):\n",
        "    print(\"year of graduation:\", self.graduationyear)\n",
        "x = Student(\"Sai\", \"Sanjeev\",2025)\n",
        "print(x.firstname, x.lastname)\n",
        "print(x.graduationyear)\n",
        "x.printname()\n",
        "x.grad(2005)"
      ],
      "metadata": {
        "colab": {
          "base_uri": "https://localhost:8080/"
        },
        "id": "2JsTE5YdvHMj",
        "outputId": "b95b8262-5b47-4fb1-de03-4945371dbf44"
      },
      "execution_count": 20,
      "outputs": [
        {
          "output_type": "stream",
          "name": "stdout",
          "text": [
            "Sai Sanjeev\n",
            "2025\n",
            "First Name: Sai \tLast Name: Sanjeev\n",
            "year of graduation: 2025\n"
          ]
        }
      ]
    }
  ]
}