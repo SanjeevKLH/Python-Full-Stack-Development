{
  "nbformat": 4,
  "nbformat_minor": 0,
  "metadata": {
    "colab": {
      "provenance": [],
      "authorship_tag": "ABX9TyPw/VfPuylxEcE8TNRGXJXe",
      "include_colab_link": true
    },
    "kernelspec": {
      "name": "python3",
      "display_name": "Python 3"
    },
    "language_info": {
      "name": "python"
    }
  },
  "cells": [
    {
      "cell_type": "markdown",
      "metadata": {
        "id": "view-in-github",
        "colab_type": "text"
      },
      "source": [
        "<a href=\"https://colab.research.google.com/github/SanjeevKLH/Python-Full-Stack-Development/blob/main/lp_16_09_22.ipynb\" target=\"_parent\"><img src=\"https://colab.research.google.com/assets/colab-badge.svg\" alt=\"Open In Colab\"/></a>"
      ]
    },
    {
      "cell_type": "code",
      "execution_count": 5,
      "metadata": {
        "colab": {
          "base_uri": "https://localhost:8080/"
        },
        "id": "N-not8G-1HrT",
        "outputId": "1d9f82c7-536f-417a-bb2c-2e091ca471f2"
      },
      "outputs": [
        {
          "output_type": "stream",
          "name": "stdout",
          "text": [
            "The list is : \n",
            "34\n",
            "56\n",
            "78\n",
            "90\n",
            "11\n",
            "23\n",
            "\n",
            "The new list : \n",
            "34\n",
            "56\n",
            "78\n",
            "90\n",
            "11\n",
            "23\n"
          ]
        }
      ],
      "source": [
        "my_list_1 = [34, 56, 78, 90, 11, 23]\n",
        "\n",
        "my_list_2 = [None] * len(my_list_1)\n",
        "\n",
        "for i in range(0, len(my_list_1)):\n",
        "   my_list_2[i] = my_list_1[i]\n",
        "\n",
        "print(\"The list is : \")\n",
        "for i in range(0, len(my_list_1)):\n",
        "   print(my_list_1[i])\n",
        "\n",
        "print()\n",
        "\n",
        "print(\"The new list : \")\n",
        "for i in range(0, len(my_list_2)):\n",
        "   print(my_list_2[i])"
      ]
    },
    {
      "cell_type": "code",
      "source": [
        "dict1={1:\"Tutorials\",2:\"Point\",3:1116}\n",
        "print(\"Dictionary 1\",dict1)\n",
        "dict2={1:\"TutorialsPoint\",\"TP\":\"DictionaryTutorial\"}\n",
        "print(\"Dictionary 2\",dict2)"
      ],
      "metadata": {
        "colab": {
          "base_uri": "https://localhost:8080/"
        },
        "id": "ZxMlbjl_9FF0",
        "outputId": "fa006854-ad3d-4a8d-f761-9210997ab95d"
      },
      "execution_count": 14,
      "outputs": [
        {
          "output_type": "stream",
          "name": "stdout",
          "text": [
            "Dictionary 1 {1: 'Tutorials', 2: 'Point', 3: 1116}\n",
            "Dictionary 2 {1: 'TutorialsPoint', 'TP': 'DictionaryTutorial'}\n"
          ]
        }
      ]
    },
    {
      "cell_type": "code",
      "source": [
        "arr = [11, 11, 22, 22, 22, 33, 22, 33, 33, 44, 44, 44]\n",
        "frequency = {}\n",
        "for element in arr:\n",
        "   if element in frequency:\n",
        "      frequency[element] += 1\n",
        "   else:\n",
        "      frequency[element] = 1\n",
        "for key, value in frequency.items():\n",
        "   print(f\"{key}: {value}\")"
      ],
      "metadata": {
        "colab": {
          "base_uri": "https://localhost:8080/"
        },
        "id": "UQpPpoyh3rhK",
        "outputId": "403fbae7-6fc1-4976-96af-da63d2d4c4c1"
      },
      "execution_count": 6,
      "outputs": [
        {
          "output_type": "stream",
          "name": "stdout",
          "text": [
            "11: 2\n",
            "22: 4\n",
            "33: 3\n",
            "44: 3\n"
          ]
        }
      ]
    },
    {
      "cell_type": "code",
      "source": [
        "arr = [1,2,3,4,5]\n",
        "print(arr)"
      ],
      "metadata": {
        "colab": {
          "base_uri": "https://localhost:8080/"
        },
        "id": "E4XcRJ535LtO",
        "outputId": "d66d01cb-300e-4ba4-9593-c8810c25177e"
      },
      "execution_count": 11,
      "outputs": [
        {
          "output_type": "stream",
          "name": "stdout",
          "text": [
            "[1, 2, 3, 4, 5]\n"
          ]
        }
      ]
    },
    {
      "cell_type": "code",
      "source": [
        "my_list = [1, 2, 5, 6, 8, 9, 3, 4, 8, 9, 1, 8]\n",
        "print(\"The list is :\")\n",
        "print(my_list)\n",
        "print(\"The duplicate elements in the list are : \")\n",
        "for i in range(0, len(my_list)):\n",
        "   for j in range(i+1, len(my_list)):\n",
        "      if(my_list[i] == my_list[j]):\n",
        "         print(my_list[j])"
      ],
      "metadata": {
        "colab": {
          "base_uri": "https://localhost:8080/"
        },
        "id": "ywTQrmkQ6foV",
        "outputId": "bdf488c9-d898-451d-f35b-e2d5b6e261d8"
      },
      "execution_count": 12,
      "outputs": [
        {
          "output_type": "stream",
          "name": "stdout",
          "text": [
            "The list is :\n",
            "[1, 2, 5, 6, 8, 9, 3, 4, 8, 9, 1, 8]\n",
            "The duplicate elements in the list are : \n",
            "1\n",
            "8\n",
            "8\n",
            "9\n",
            "8\n"
          ]
        }
      ]
    },
    {
      "cell_type": "code",
      "source": [
        "my_list = [21, 32, 43, 54, 75]\n",
        "print(\"The list is : \")\n",
        "for i in range(0, len(my_list)):\n",
        "   print(my_list[i])\n",
        "print(\"The list after reversal is : \")\n",
        "for i in range(len(my_list)-1, -1, -1):\n",
        "   print(my_list[i])"
      ],
      "metadata": {
        "colab": {
          "base_uri": "https://localhost:8080/"
        },
        "id": "Om81Zniz7YD0",
        "outputId": "7529c84e-ba95-4919-a149-e4b8be7e36dc"
      },
      "execution_count": 13,
      "outputs": [
        {
          "output_type": "stream",
          "name": "stdout",
          "text": [
            "The list is : \n",
            "21\n",
            "32\n",
            "43\n",
            "54\n",
            "75\n",
            "The list after reversal is : \n",
            "75\n",
            "54\n",
            "43\n",
            "32\n",
            "21\n"
          ]
        }
      ]
    },
    {
      "cell_type": "markdown",
      "source": [],
      "metadata": {
        "id": "eda8WUD92fhO"
      }
    }
  ]
}