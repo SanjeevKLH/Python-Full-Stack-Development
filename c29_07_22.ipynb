{
  "nbformat": 4,
  "nbformat_minor": 0,
  "metadata": {
    "colab": {
      "name": "c29.07.22.ipynb",
      "provenance": [],
      "authorship_tag": "ABX9TyPYpvYv02arzK4q7npcnwnn",
      "include_colab_link": true
    },
    "kernelspec": {
      "name": "python3",
      "display_name": "Python 3"
    },
    "language_info": {
      "name": "python"
    }
  },
  "cells": [
    {
      "cell_type": "markdown",
      "metadata": {
        "id": "view-in-github",
        "colab_type": "text"
      },
      "source": [
        "<a href=\"https://colab.research.google.com/github/SanjeevKLH/Python-Full-Stack-Development/blob/main/c29_07_22.ipynb\" target=\"_parent\"><img src=\"https://colab.research.google.com/assets/colab-badge.svg\" alt=\"Open In Colab\"/></a>"
      ]
    },
    {
      "cell_type": "code",
      "source": [
        "s1 = ('c','a','b','d')\n",
        "en = enumerate(s1)\n",
        "print(list(en))\n",
        "sorted(s1)\n"
      ],
      "metadata": {
        "id": "FIUnyi-5g1_E",
        "outputId": "b49f87c9-7e27-4d8a-d98f-63bb90fbdfba",
        "colab": {
          "base_uri": "https://localhost:8080/"
        }
      },
      "execution_count": 3,
      "outputs": [
        {
          "output_type": "stream",
          "name": "stdout",
          "text": [
            "[(0, 'c'), (1, 'a'), (2, 'b'), (3, 'd')]\n"
          ]
        },
        {
          "output_type": "execute_result",
          "data": {
            "text/plain": [
              "['a', 'b', 'c', 'd']"
            ]
          },
          "metadata": {},
          "execution_count": 3
        }
      ]
    },
    {
      "cell_type": "code",
      "source": [
        "len(s1)"
      ],
      "metadata": {
        "id": "xcGOQtQ1g40Z",
        "outputId": "70b890a1-9c23-4871-ff91-4e5fdbca0190",
        "colab": {
          "base_uri": "https://localhost:8080/"
        }
      },
      "execution_count": 4,
      "outputs": [
        {
          "output_type": "execute_result",
          "data": {
            "text/plain": [
              "4"
            ]
          },
          "metadata": {},
          "execution_count": 4
        }
      ]
    },
    {
      "cell_type": "code",
      "source": [
        "min(s1)"
      ],
      "metadata": {
        "id": "cq9hgZzGg7f2",
        "outputId": "7e36d1cc-32f5-43c9-aa50-14d05d476484",
        "colab": {
          "base_uri": "https://localhost:8080/",
          "height": 36
        }
      },
      "execution_count": 5,
      "outputs": [
        {
          "output_type": "execute_result",
          "data": {
            "text/plain": [
              "'a'"
            ],
            "application/vnd.google.colaboratory.intrinsic+json": {
              "type": "string"
            }
          },
          "metadata": {},
          "execution_count": 5
        }
      ]
    },
    {
      "cell_type": "code",
      "source": [
        "max(s1)"
      ],
      "metadata": {
        "id": "Y_RWHpU9g91Q",
        "outputId": "a69b0bd2-bf05-4dd7-b0bd-7bf38939c4d7",
        "colab": {
          "base_uri": "https://localhost:8080/",
          "height": 36
        }
      },
      "execution_count": 6,
      "outputs": [
        {
          "output_type": "execute_result",
          "data": {
            "text/plain": [
              "'d'"
            ],
            "application/vnd.google.colaboratory.intrinsic+json": {
              "type": "string"
            }
          },
          "metadata": {},
          "execution_count": 6
        }
      ]
    },
    {
      "cell_type": "code",
      "source": [
        "list=[1,2,3]\n",
        "print(type(list))"
      ],
      "metadata": {
        "id": "Q18yzSuLhg2S",
        "outputId": "b2e78012-b7ad-4450-c9e2-edbd1790444b",
        "colab": {
          "base_uri": "https://localhost:8080/"
        }
      },
      "execution_count": 7,
      "outputs": [
        {
          "output_type": "stream",
          "name": "stdout",
          "text": [
            "<class 'list'>\n"
          ]
        }
      ]
    }
  ]
}