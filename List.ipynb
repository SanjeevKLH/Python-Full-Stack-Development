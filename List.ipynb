{
  "nbformat": 4,
  "nbformat_minor": 0,
  "metadata": {
    "colab": {
      "name": "List.ipynb",
      "provenance": [],
      "authorship_tag": "ABX9TyOCxECRGzwGPN4J025yl7Rh",
      "include_colab_link": true
    },
    "kernelspec": {
      "name": "python3",
      "display_name": "Python 3"
    },
    "language_info": {
      "name": "python"
    }
  },
  "cells": [
    {
      "cell_type": "markdown",
      "metadata": {
        "id": "view-in-github",
        "colab_type": "text"
      },
      "source": [
        "<a href=\"https://colab.research.google.com/github/SanjeevKLH/Python-Full-Stack-Development/blob/main/List.ipynb\" target=\"_parent\"><img src=\"https://colab.research.google.com/assets/colab-badge.svg\" alt=\"Open In Colab\"/></a>"
      ]
    },
    {
      "cell_type": "code",
      "execution_count": 1,
      "metadata": {
        "colab": {
          "base_uri": "https://localhost:8080/"
        },
        "id": "zF18ypLEgSDV",
        "outputId": "33cb8beb-b113-4b58-a658-a70825ab399b"
      },
      "outputs": [
        {
          "output_type": "stream",
          "name": "stdout",
          "text": [
            "['mango', 'grapes', 'pineapple']\n"
          ]
        }
      ],
      "source": [
        "thislist=['mango','grapes','pineapple']\n",
        "print(thislist)"
      ]
    },
    {
      "cell_type": "code",
      "source": [
        "mylist=['1','2','4','5']\n",
        "mylist[2]=3\n",
        "print(mylist)"
      ],
      "metadata": {
        "colab": {
          "base_uri": "https://localhost:8080/"
        },
        "id": "5KTh7vcDg9yK",
        "outputId": "5611c6ba-c6c7-47f4-f51b-a025f0c14ce9"
      },
      "execution_count": 2,
      "outputs": [
        {
          "output_type": "stream",
          "name": "stdout",
          "text": [
            "['1', '2', 3, '5']\n"
          ]
        }
      ]
    },
    {
      "cell_type": "code",
      "source": [
        "even=['2','4','6']\n",
        "even.append(8)\n",
        "print(even)\n"
      ],
      "metadata": {
        "colab": {
          "base_uri": "https://localhost:8080/"
        },
        "id": "fKCThdaah-z1",
        "outputId": "d6d9686b-ed84-4029-8d9d-d43f92ae9720"
      },
      "execution_count": 3,
      "outputs": [
        {
          "output_type": "stream",
          "name": "stdout",
          "text": [
            "['2', '4', '6', 8]\n"
          ]
        }
      ]
    },
    {
      "cell_type": "code",
      "source": [
        "even=['2','4']\n",
        "even.extend([6,8,10,12])\n",
        "print(even)"
      ],
      "metadata": {
        "colab": {
          "base_uri": "https://localhost:8080/"
        },
        "id": "qkPuVvEjiUau",
        "outputId": "4bed9d1f-10f2-4a27-8bda-6044ae1cf8e2"
      },
      "execution_count": 5,
      "outputs": [
        {
          "output_type": "stream",
          "name": "stdout",
          "text": [
            "['2', '4', 6, 8, 10, 12]\n"
          ]
        }
      ]
    },
    {
      "cell_type": "code",
      "source": [
        "list=[3,4]\n",
        "list.insert(1,2)\n",
        "print(list)"
      ],
      "metadata": {
        "colab": {
          "base_uri": "https://localhost:8080/"
        },
        "id": "_XkM77qwivY3",
        "outputId": "b144172a-3c13-464b-ceae-fd15d78dfc2c"
      },
      "execution_count": 9,
      "outputs": [
        {
          "output_type": "stream",
          "name": "stdout",
          "text": [
            "[3, 2, 4]\n"
          ]
        }
      ]
    },
    {
      "cell_type": "code",
      "source": [
        "del list[1]\n",
        "print(list)"
      ],
      "metadata": {
        "colab": {
          "base_uri": "https://localhost:8080/"
        },
        "id": "XMnVYqeYjcac",
        "outputId": "c7eceefe-2db3-4893-bc73-3ffe670afcc4"
      },
      "execution_count": 10,
      "outputs": [
        {
          "output_type": "stream",
          "name": "stdout",
          "text": [
            "[3, 4]\n"
          ]
        }
      ]
    }
  ]
}